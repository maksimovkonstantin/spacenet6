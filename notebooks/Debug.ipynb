{
 "cells": [
  {
   "cell_type": "code",
   "execution_count": 7,
   "metadata": {},
   "outputs": [],
   "source": [
    "# !python ../utils/remove_non_sar.py --data_root_path /mnt/c/home/Data/topcoder/AOI_11_Rotterdam\n",
    "!python ../utils/create_masks.py --data_root_path /mnt/c/home/Data/topcoder/AOI_11_Rotterdam --result_path /mnt/c/home/Data/topcoder/AOI_11_Rotterdam/masks"
   ]
  }
 ],
 "metadata": {
  "kernelspec": {
   "display_name": "Python 3",
   "language": "python",
   "name": "python3"
  },
  "language_info": {
   "codemirror_mode": {
    "name": "ipython",
    "version": 3
   },
   "file_extension": ".py",
   "mimetype": "text/x-python",
   "name": "python",
   "nbconvert_exporter": "python",
   "pygments_lexer": "ipython3",
   "version": "3.6.8"
  }
 },
 "nbformat": 4,
 "nbformat_minor": 4
}
